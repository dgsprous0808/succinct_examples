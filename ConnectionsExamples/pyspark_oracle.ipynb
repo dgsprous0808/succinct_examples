{
 "cells": [
  {
   "cell_type": "markdown",
   "metadata": {},
   "source": [
    "# Example connections between Python and PySpark to Oracle and S3.  "
   ]
  },
  {
   "cell_type": "markdown",
   "metadata": {},
   "source": [
    "## Pyspark connections"
   ]
  },
  {
   "cell_type": "markdown",
   "metadata": {},
   "source": [
    "### Pyspark to Oracle\n",
    "\n",
    "NB:  need to download the ojbc7.jar file.  \n",
    " "
   ]
  },
  {
   "cell_type": "code",
   "execution_count": 4,
   "metadata": {},
   "outputs": [
    {
     "name": "stdout",
     "output_type": "stream",
     "text": [
      "url: \n",
      "jdbc:oracle:thin:QABI_USER/EDWQA@//brscc02-scan1.us1.ocm.s7358785.oraclecloudatcustomer.com:8685/EDWQA\n",
      "Success!  type was <class 'pyspark.sql.dataframe.DataFrame'>\n",
      "root\n",
      " |-- ID: string (nullable = true)\n",
      " |-- AUTHOR: string (nullable = true)\n",
      " |-- FILENAME: string (nullable = true)\n",
      " |-- DATEEXECUTED: timestamp (nullable = true)\n",
      " |-- ORDEREXECUTED: decimal(38,0) (nullable = true)\n",
      " |-- EXECTYPE: string (nullable = true)\n",
      " |-- MD5SUM: string (nullable = true)\n",
      " |-- DESCRIPTION: string (nullable = true)\n",
      " |-- COMMENTS: string (nullable = true)\n",
      " |-- TAG: string (nullable = true)\n",
      " |-- LIQUIBASE: string (nullable = true)\n",
      "\n"
     ]
    }
   ],
   "source": [
    "import findspark\n",
    "findspark.init()\n",
    "from pyspark.sql import SparkSession\n",
    "import json\n",
    "\n",
    "# credentials cannot be left in git.  \n",
    "# this is a work around\n",
    "d = None\n",
    "with open('../../../.credentials/credentials.json') as f:\n",
    "  d = json.load(f)\n",
    "\n",
    "if d is not None:\n",
    "    d = d['QABI_EDWQA1']\n",
    "    user = d['user'] \n",
    "    password = d['password']\n",
    "    hostname = d['hostname']\n",
    "    port = d['port']\n",
    "    service_name = d['service_name'] \n",
    "    # \"jdbc:oracle:thin:USER/PASSWORD@//hostname:port/service_name\"\n",
    "    url = 'jdbc:oracle:thin:{}/{}@//{}:{}/{}'.format(user, password, hostname,port,service_name)\n",
    "    print('url: \\n{}'.format(url))\n",
    "    \n",
    "    spark = SparkSession.builder.appName(\"Operations\").config(\"spark.jars\", \"/usr/local/lib/ojdbc7.jar\").getOrCreate()\n",
    "    spark._jsc.hadoopConfiguration().set(\"fs.s3a.access.key\", \"mykey\")\n",
    "    df = spark.read \\\n",
    "        .format(\"jdbc\") \\\n",
    "        .option(\"url\",url) \\\n",
    "        .option(\"dbtable\",\"LANDING_SDRMX.DATABASECHANGELOG\") \\\n",
    "        .option(\"driver\",\"oracle.jdbc.driver.OracleDriver\") \\\n",
    "        .load()\n",
    "    \n",
    "    status_type = str( type(df) )\n",
    "    \n",
    "    print('Success!  type was {}'.format(status_type))\n",
    "    \n",
    "else:\n",
    "    print('ERROR: Need credentials')\n",
    "\n",
    "    \n",
    "df.printSchema()"
   ]
  },
  {
   "cell_type": "markdown",
   "metadata": {},
   "source": [
    "### The snowflake connector/cursor method."
   ]
  },
  {
   "cell_type": "code",
   "execution_count": 1,
   "metadata": {},
   "outputs": [
    {
     "name": "stdout",
     "output_type": "stream",
     "text": [
      "(63, 'NZD', 'NEW ZEALAND DOLLAR', 'US-English', '999,999,999,999', '.99', '$', datetime.datetime(2020, 11, 18, 5, 0, tzinfo=pytz.FixedOffset(-480)), datetime.datetime(2020, 11, 18, 5, 0, tzinfo=pytz.FixedOffset(-480)), 102, 'conformance_common', None, None, None, 'SK_102__PK_63', datetime.datetime(2020, 11, 18, 5, 0, tzinfo=pytz.FixedOffset(-480)), 'N', datetime.datetime(2021, 3, 3, 18, 26, 30, 332000, tzinfo=pytz.FixedOffset(-480)), 'SK_100__PK_ET', datetime.date(2021, 3, 3))\n",
      "(51, 'MYR', 'MALAYSIAN RINGGIT', 'US-English', '999,999,999', '.99', 'MYR', datetime.datetime(2020, 11, 18, 5, 0, tzinfo=pytz.FixedOffset(-480)), datetime.datetime(2020, 11, 18, 5, 0, tzinfo=pytz.FixedOffset(-480)), 102, 'conformance_common', None, None, None, 'SK_102__PK_51', datetime.datetime(2020, 11, 18, 5, 0, tzinfo=pytz.FixedOffset(-480)), 'N', datetime.datetime(2021, 3, 3, 18, 26, 30, 332000, tzinfo=pytz.FixedOffset(-480)), 'SK_100__PK_ET', datetime.date(2021, 3, 3))\n",
      "(88, 'IDR', 'INDONESIAN RUPIAH', 'Indonesia', '999,999,999,999', None, 'Rp', datetime.datetime(2020, 11, 18, 5, 0, tzinfo=pytz.FixedOffset(-480)), datetime.datetime(2020, 11, 18, 5, 0, tzinfo=pytz.FixedOffset(-480)), 102, 'conformance_common', None, None, None, 'SK_102__PK_88', datetime.datetime(2020, 11, 18, 5, 0, tzinfo=pytz.FixedOffset(-480)), 'N', datetime.datetime(2021, 3, 3, 18, 26, 30, 335000, tzinfo=pytz.FixedOffset(-480)), 'SK_100__PK_ET', datetime.date(2021, 3, 3))\n",
      "(50, 'JPY', 'JAPANESE YEN', 'Japan', '999,999,999', None, '¥', datetime.datetime(2020, 11, 18, 5, 0, tzinfo=pytz.FixedOffset(-480)), datetime.datetime(2020, 11, 18, 5, 0, tzinfo=pytz.FixedOffset(-480)), 102, 'conformance_common', None, None, None, 'SK_102__PK_50', datetime.datetime(2020, 11, 18, 5, 0, tzinfo=pytz.FixedOffset(-480)), 'N', datetime.datetime(2021, 3, 3, 18, 26, 30, 333000, tzinfo=pytz.FixedOffset(-480)), 'SK_100__PK_ET', datetime.date(2021, 3, 3))\n",
      "(55, 'VEF', 'BOLIVAR FUERTE', 'Venezuela', '999,999,999', '.99', 'BSF', datetime.datetime(2020, 11, 18, 5, 0, tzinfo=pytz.FixedOffset(-480)), datetime.datetime(2020, 11, 18, 5, 0, tzinfo=pytz.FixedOffset(-480)), 102, 'conformance_common', None, None, None, 'SK_102__PK_55', datetime.datetime(2020, 11, 18, 5, 0, tzinfo=pytz.FixedOffset(-480)), 'N', datetime.datetime(2021, 3, 3, 18, 26, 30, 336000, tzinfo=pytz.FixedOffset(-480)), 'SK_100__PK_ET', datetime.date(2021, 3, 3))\n",
      "(90, 'UAH', 'UKRAINIAN HRYVNIA', 'Ukraine', '999,999,999', '.99', 'UAH', datetime.datetime(2020, 11, 18, 5, 0, tzinfo=pytz.FixedOffset(-480)), datetime.datetime(2020, 11, 18, 5, 0, tzinfo=pytz.FixedOffset(-480)), 102, 'conformance_common', None, None, None, 'SK_102__PK_90', datetime.datetime(2020, 11, 18, 5, 0, tzinfo=pytz.FixedOffset(-480)), 'N', datetime.datetime(2021, 3, 3, 18, 26, 30, 336000, tzinfo=pytz.FixedOffset(-480)), 'SK_100__PK_ET', datetime.date(2021, 3, 3))\n",
      "(64, 'ZAR', 'SOUTH AFRICAN RAND', None, '999,999,999,999', '.99', 'R', datetime.datetime(2020, 11, 18, 5, 0, tzinfo=pytz.FixedOffset(-480)), datetime.datetime(2020, 11, 18, 5, 0, tzinfo=pytz.FixedOffset(-480)), 102, 'conformance_common', None, None, None, 'SK_102__PK_64', datetime.datetime(2020, 11, 18, 5, 0, tzinfo=pytz.FixedOffset(-480)), 'N', datetime.datetime(2021, 3, 3, 18, 26, 30, 335000, tzinfo=pytz.FixedOffset(-480)), 'SK_100__PK_ET', datetime.date(2021, 3, 3))\n",
      "(92, 'THB', 'THAI BAHT', 'Thailand', '999,999,999,999', '.99', 'THB', datetime.datetime(2020, 11, 18, 5, 0, tzinfo=pytz.FixedOffset(-480)), datetime.datetime(2020, 11, 18, 5, 0, tzinfo=pytz.FixedOffset(-480)), 102, 'conformance_common', None, None, None, 'SK_102__PK_92', datetime.datetime(2020, 11, 18, 5, 0, tzinfo=pytz.FixedOffset(-480)), 'N', datetime.datetime(2021, 3, 3, 18, 26, 30, 334000, tzinfo=pytz.FixedOffset(-480)), 'SK_100__PK_ET', datetime.date(2021, 3, 3))\n",
      "(91, 'TRY', 'TURKISH LIRA', 'Turkey', '999,999,999', '.99', 'TRY', datetime.datetime(2020, 11, 18, 5, 0, tzinfo=pytz.FixedOffset(-480)), datetime.datetime(2020, 11, 18, 5, 0, tzinfo=pytz.FixedOffset(-480)), 102, 'conformance_common', None, None, None, 'SK_102__PK_91', datetime.datetime(2020, 11, 18, 5, 0, tzinfo=pytz.FixedOffset(-480)), 'N', datetime.datetime(2021, 3, 3, 18, 26, 30, 336000, tzinfo=pytz.FixedOffset(-480)), 'SK_100__PK_ET', datetime.date(2021, 3, 3))\n",
      "(1, 'USD', 'U.S. DOLLAR', 'US-English', '999,999,999', '.99', '$', datetime.datetime(2020, 11, 18, 5, 0, tzinfo=pytz.FixedOffset(-480)), datetime.datetime(2020, 11, 18, 5, 0, tzinfo=pytz.FixedOffset(-480)), 102, 'conformance_common', None, None, None, 'SK_102__PK_1', datetime.datetime(2020, 11, 18, 5, 0, tzinfo=pytz.FixedOffset(-480)), 'N', datetime.datetime(2021, 3, 3, 18, 26, 30, 334000, tzinfo=pytz.FixedOffset(-480)), 'SK_100__PK_ET', datetime.date(2021, 3, 3))\n",
      "(46, 'CLP', 'CHILEAN PESO', 'Chile', '999,999,999', None, 'CLP', datetime.datetime(2020, 11, 18, 5, 0, tzinfo=pytz.FixedOffset(-480)), datetime.datetime(2020, 11, 18, 5, 0, tzinfo=pytz.FixedOffset(-480)), 102, 'conformance_common', None, None, None, 'SK_102__PK_46', datetime.datetime(2020, 11, 18, 5, 0, tzinfo=pytz.FixedOffset(-480)), 'N', datetime.datetime(2021, 3, 3, 18, 26, 30, 333000, tzinfo=pytz.FixedOffset(-480)), 'SK_100__PK_ET', datetime.date(2021, 3, 3))\n",
      "(52, 'HKD', 'HONG KONG DOLLAR', 'US-English', '999,999,999', '.99', 'HK$', datetime.datetime(2020, 11, 18, 5, 0, tzinfo=pytz.FixedOffset(-480)), datetime.datetime(2020, 11, 18, 5, 0, tzinfo=pytz.FixedOffset(-480)), 102, 'conformance_common', None, None, None, 'SK_102__PK_52', datetime.datetime(2020, 11, 18, 5, 0, tzinfo=pytz.FixedOffset(-480)), 'N', datetime.datetime(2021, 3, 3, 18, 26, 30, 335000, tzinfo=pytz.FixedOffset(-480)), 'SK_100__PK_ET', datetime.date(2021, 3, 3))\n",
      "(2, 'INR', 'INDIAN RUPEE', 'India', '99,99,99,99,999', '.99', 'Rs', datetime.datetime(2020, 11, 18, 5, 0, tzinfo=pytz.FixedOffset(-480)), datetime.datetime(2020, 11, 18, 5, 0, tzinfo=pytz.FixedOffset(-480)), 102, 'conformance_common', None, None, None, 'SK_102__PK_2', datetime.datetime(2020, 11, 18, 5, 0, tzinfo=pytz.FixedOffset(-480)), 'N', datetime.datetime(2021, 3, 3, 18, 26, 30, 335000, tzinfo=pytz.FixedOffset(-480)), 'SK_100__PK_ET', datetime.date(2021, 3, 3))\n",
      "(4, 'BRL', 'BRAZILIAN REAL', 'Brazil', '999,999,999', '.99', 'R$', datetime.datetime(2020, 11, 18, 5, 0, tzinfo=pytz.FixedOffset(-480)), datetime.datetime(2020, 11, 18, 5, 0, tzinfo=pytz.FixedOffset(-480)), 102, 'conformance_common', None, None, None, 'SK_102__PK_4', datetime.datetime(2020, 11, 18, 5, 0, tzinfo=pytz.FixedOffset(-480)), 'N', datetime.datetime(2021, 3, 3, 18, 26, 30, 332000, tzinfo=pytz.FixedOffset(-480)), 'SK_100__PK_ET', datetime.date(2021, 3, 3))\n",
      "(89, 'PLN', 'POLISH ZLOTY', 'Poland', '999,999,999', '.99', 'zł', datetime.datetime(2020, 11, 18, 5, 0, tzinfo=pytz.FixedOffset(-480)), datetime.datetime(2020, 11, 18, 5, 0, tzinfo=pytz.FixedOffset(-480)), 102, 'conformance_common', None, None, None, 'SK_102__PK_89', datetime.datetime(2020, 11, 18, 5, 0, tzinfo=pytz.FixedOffset(-480)), 'N', datetime.datetime(2021, 3, 3, 18, 26, 30, 331000, tzinfo=pytz.FixedOffset(-480)), 'SK_100__PK_ET', datetime.date(2021, 3, 3))\n",
      "(62, 'KRW', 'SOUTH KOREAN WON', 'Korea', '999,999,999', None, 'W', datetime.datetime(2020, 11, 18, 5, 0, tzinfo=pytz.FixedOffset(-480)), datetime.datetime(2020, 11, 18, 5, 0, tzinfo=pytz.FixedOffset(-480)), 102, 'conformance_common', None, None, None, 'SK_102__PK_62', datetime.datetime(2020, 11, 18, 5, 0, tzinfo=pytz.FixedOffset(-480)), 'N', datetime.datetime(2021, 3, 3, 18, 26, 30, 332000, tzinfo=pytz.FixedOffset(-480)), 'SK_100__PK_ET', datetime.date(2021, 3, 3))\n",
      "(49, 'VEB', 'VENEZUELAN BOLIVAR', 'Venezuela', '999,999,999,999', '.99', 'B$', datetime.datetime(2020, 11, 18, 5, 0, tzinfo=pytz.FixedOffset(-480)), datetime.datetime(2020, 11, 18, 5, 0, tzinfo=pytz.FixedOffset(-480)), 102, 'conformance_common', None, None, None, 'SK_102__PK_49', datetime.datetime(2020, 11, 18, 5, 0, tzinfo=pytz.FixedOffset(-480)), 'N', datetime.datetime(2021, 3, 3, 18, 26, 30, 331000, tzinfo=pytz.FixedOffset(-480)), 'SK_100__PK_ET', datetime.date(2021, 3, 3))\n",
      "(65, 'COP', 'COLOMBIAN PESO', 'US-English', '999,999,999,999', '.99', '$', datetime.datetime(2020, 11, 18, 5, 0, tzinfo=pytz.FixedOffset(-480)), datetime.datetime(2020, 11, 18, 5, 0, tzinfo=pytz.FixedOffset(-480)), 102, 'conformance_common', None, None, None, 'SK_102__PK_65', datetime.datetime(2020, 11, 18, 5, 0, tzinfo=pytz.FixedOffset(-480)), 'N', datetime.datetime(2021, 3, 3, 18, 26, 30, 336000, tzinfo=pytz.FixedOffset(-480)), 'SK_100__PK_ET', datetime.date(2021, 3, 3))\n",
      "(45, 'PEN', 'PERUVIAN SOL', 'US-English', '999,999,999,999', '.99', 'S/', datetime.datetime(2020, 11, 18, 5, 0, tzinfo=pytz.FixedOffset(-480)), datetime.datetime(2020, 11, 18, 5, 0, tzinfo=pytz.FixedOffset(-480)), 102, 'conformance_common', None, None, None, 'SK_102__PK_45', datetime.datetime(2020, 11, 18, 5, 0, tzinfo=pytz.FixedOffset(-480)), 'N', datetime.datetime(2021, 3, 3, 18, 26, 30, 335000, tzinfo=pytz.FixedOffset(-480)), 'SK_100__PK_ET', datetime.date(2021, 3, 3))\n",
      "(9, 'HUF', 'HUNGARIAN FORINT', 'US-English', '999,999,999', '.99', 'Ft', datetime.datetime(2020, 11, 18, 5, 0, tzinfo=pytz.FixedOffset(-480)), datetime.datetime(2020, 11, 18, 5, 0, tzinfo=pytz.FixedOffset(-480)), 102, 'conformance_common', None, None, None, 'SK_102__PK_9', datetime.datetime(2020, 11, 18, 5, 0, tzinfo=pytz.FixedOffset(-480)), 'N', datetime.datetime(2021, 3, 3, 18, 26, 30, 332000, tzinfo=pytz.FixedOffset(-480)), 'SK_100__PK_ET', datetime.date(2021, 3, 3))\n",
      "(6, 'EUR', 'EURO', 'Euro', '999,999,999', '.99', 'EUR', datetime.datetime(2020, 11, 18, 5, 0, tzinfo=pytz.FixedOffset(-480)), datetime.datetime(2020, 11, 18, 5, 0, tzinfo=pytz.FixedOffset(-480)), 102, 'conformance_common', None, None, None, 'SK_102__PK_6', datetime.datetime(2020, 11, 18, 5, 0, tzinfo=pytz.FixedOffset(-480)), 'N', datetime.datetime(2021, 3, 3, 18, 26, 30, 333000, tzinfo=pytz.FixedOffset(-480)), 'SK_100__PK_ET', datetime.date(2021, 3, 3))\n",
      "(59, 'CNY', 'CHINA YUAN RENMINBI', 'Japan', '999,999,999', '.99', '¥', datetime.datetime(2020, 11, 18, 5, 0, tzinfo=pytz.FixedOffset(-480)), datetime.datetime(2020, 11, 18, 5, 0, tzinfo=pytz.FixedOffset(-480)), 102, 'conformance_common', None, None, None, 'SK_102__PK_59', datetime.datetime(2020, 11, 18, 5, 0, tzinfo=pytz.FixedOffset(-480)), 'N', datetime.datetime(2021, 3, 3, 18, 26, 30, 333000, tzinfo=pytz.FixedOffset(-480)), 'SK_100__PK_ET', datetime.date(2021, 3, 3))\n",
      "(61, 'DKK', 'DANISH KRONE', 'Denmark', '999,999,999', '.99', 'Kr', datetime.datetime(2020, 11, 18, 5, 0, tzinfo=pytz.FixedOffset(-480)), datetime.datetime(2020, 11, 18, 5, 0, tzinfo=pytz.FixedOffset(-480)), 102, 'conformance_common', None, None, None, 'SK_102__PK_61', datetime.datetime(2020, 11, 18, 5, 0, tzinfo=pytz.FixedOffset(-480)), 'N', datetime.datetime(2021, 3, 3, 18, 26, 30, 335000, tzinfo=pytz.FixedOffset(-480)), 'SK_100__PK_ET', datetime.date(2021, 3, 3))\n",
      "(25, 'MXN', 'MEXICAN PESO', 'Mexico', '999,999,999', '.99', 'MXN', datetime.datetime(2020, 11, 18, 5, 0, tzinfo=pytz.FixedOffset(-480)), datetime.datetime(2020, 11, 18, 5, 0, tzinfo=pytz.FixedOffset(-480)), 102, 'conformance_common', None, None, None, 'SK_102__PK_25', datetime.datetime(2020, 11, 18, 5, 0, tzinfo=pytz.FixedOffset(-480)), 'N', datetime.datetime(2021, 3, 3, 18, 26, 30, 333000, tzinfo=pytz.FixedOffset(-480)), 'SK_100__PK_ET', datetime.date(2021, 3, 3))\n",
      "(93, 'RUB', 'RUSSIAN RUBLE', 'Russia', '999,999,999,999', '.99', 'RUB', datetime.datetime(2020, 11, 18, 5, 0, tzinfo=pytz.FixedOffset(-480)), datetime.datetime(2020, 11, 18, 5, 0, tzinfo=pytz.FixedOffset(-480)), 102, 'conformance_common', None, None, None, 'SK_102__PK_93', datetime.datetime(2020, 11, 18, 5, 0, tzinfo=pytz.FixedOffset(-480)), 'N', datetime.datetime(2021, 3, 3, 18, 26, 30, 332000, tzinfo=pytz.FixedOffset(-480)), 'SK_100__PK_ET', datetime.date(2021, 3, 3))\n",
      "(53, 'SEK', 'SWEDISH KRONA', None, '999,999,999', '.99', 'SEK', datetime.datetime(2020, 11, 18, 5, 0, tzinfo=pytz.FixedOffset(-480)), datetime.datetime(2020, 11, 18, 5, 0, tzinfo=pytz.FixedOffset(-480)), 102, 'conformance_common', None, None, None, 'SK_102__PK_53', datetime.datetime(2020, 11, 18, 5, 0, tzinfo=pytz.FixedOffset(-480)), 'N', datetime.datetime(2021, 3, 3, 18, 26, 30, 334000, tzinfo=pytz.FixedOffset(-480)), 'SK_100__PK_ET', datetime.date(2021, 3, 3))\n",
      "(8, 'BGN', 'BULGARIAN LEV', 'US-English', '999,999,999', '.99', 'Лв', datetime.datetime(2020, 11, 18, 5, 0, tzinfo=pytz.FixedOffset(-480)), datetime.datetime(2020, 11, 18, 5, 0, tzinfo=pytz.FixedOffset(-480)), 102, 'conformance_common', None, None, None, 'SK_102__PK_8', datetime.datetime(2020, 11, 18, 5, 0, tzinfo=pytz.FixedOffset(-480)), 'N', datetime.datetime(2021, 3, 3, 18, 26, 30, 336000, tzinfo=pytz.FixedOffset(-480)), 'SK_100__PK_ET', datetime.date(2021, 3, 3))\n",
      "(0, None, 'ORDER CURRENCY', None, None, None, None, datetime.datetime(2020, 11, 18, 5, 0, tzinfo=pytz.FixedOffset(-480)), datetime.datetime(2020, 11, 18, 5, 0, tzinfo=pytz.FixedOffset(-480)), 102, 'conformance_common', None, None, None, 'SK_102__PK_0', datetime.datetime(2020, 11, 18, 5, 0, tzinfo=pytz.FixedOffset(-480)), 'N', datetime.datetime(2021, 3, 3, 18, 26, 30, 335000, tzinfo=pytz.FixedOffset(-480)), 'SK_100__PK_ET', datetime.date(2021, 3, 3))\n",
      "(48, 'SGD', 'SINGAPORE DOLLAR', 'Singapore', '999,999,999', '.99', 'S$', datetime.datetime(2020, 11, 18, 5, 0, tzinfo=pytz.FixedOffset(-480)), datetime.datetime(2020, 11, 18, 5, 0, tzinfo=pytz.FixedOffset(-480)), 102, 'conformance_common', None, None, None, 'SK_102__PK_48', datetime.datetime(2020, 11, 18, 5, 0, tzinfo=pytz.FixedOffset(-480)), 'N', datetime.datetime(2021, 3, 3, 18, 26, 30, 335000, tzinfo=pytz.FixedOffset(-480)), 'SK_100__PK_ET', datetime.date(2021, 3, 3))\n",
      "(67, 'VES', 'BOLIVAR SOBERANO', 'Venezuela', '999,999,999,999', '.99', 'BSS', datetime.datetime(2020, 11, 18, 5, 0, tzinfo=pytz.FixedOffset(-480)), datetime.datetime(2020, 11, 18, 5, 0, tzinfo=pytz.FixedOffset(-480)), 102, 'conformance_common', None, None, None, 'SK_102__PK_67', datetime.datetime(2020, 11, 18, 5, 0, tzinfo=pytz.FixedOffset(-480)), 'N', datetime.datetime(2021, 3, 3, 18, 26, 30, 335000, tzinfo=pytz.FixedOffset(-480)), 'SK_100__PK_ET', datetime.date(2021, 3, 3))\n",
      "(7, 'CAD', 'CANADIAN DOLLAR', 'US-English', '999,999,999', '.99', 'C$', datetime.datetime(2020, 11, 18, 5, 0, tzinfo=pytz.FixedOffset(-480)), datetime.datetime(2020, 11, 18, 5, 0, tzinfo=pytz.FixedOffset(-480)), 102, 'conformance_common', None, None, None, 'SK_102__PK_7', datetime.datetime(2020, 11, 18, 5, 0, tzinfo=pytz.FixedOffset(-480)), 'N', datetime.datetime(2021, 3, 3, 18, 26, 30, 335000, tzinfo=pytz.FixedOffset(-480)), 'SK_100__PK_ET', datetime.date(2021, 3, 3))\n",
      "(66, 'UYU', 'URUGUAYAN PESO', None, '999999999', '.99', '$U', datetime.datetime(2020, 11, 18, 5, 0, tzinfo=pytz.FixedOffset(-480)), datetime.datetime(2020, 11, 18, 5, 0, tzinfo=pytz.FixedOffset(-480)), 102, 'conformance_common', None, None, None, 'SK_102__PK_66', datetime.datetime(2020, 11, 18, 5, 0, tzinfo=pytz.FixedOffset(-480)), 'N', datetime.datetime(2021, 3, 3, 18, 26, 30, 336000, tzinfo=pytz.FixedOffset(-480)), 'SK_100__PK_ET', datetime.date(2021, 3, 3))\n",
      "(58, 'LKR', 'SRI LANKAN RUPEE', 'SriLanka', '99,99,99,99,999', '.99', 'LKR', datetime.datetime(2020, 11, 18, 5, 0, tzinfo=pytz.FixedOffset(-480)), datetime.datetime(2020, 11, 18, 5, 0, tzinfo=pytz.FixedOffset(-480)), 102, 'conformance_common', None, None, None, 'SK_102__PK_58', datetime.datetime(2020, 11, 18, 5, 0, tzinfo=pytz.FixedOffset(-480)), 'N', datetime.datetime(2021, 3, 3, 18, 26, 30, 335000, tzinfo=pytz.FixedOffset(-480)), 'SK_100__PK_ET', datetime.date(2021, 3, 3))\n",
      "(5, 'AUD', 'AUSTRALIAN DOLLAR', 'US-English', '999,999,999,999', '.99', 'A$', datetime.datetime(2020, 11, 18, 5, 0, tzinfo=pytz.FixedOffset(-480)), datetime.datetime(2020, 11, 18, 5, 0, tzinfo=pytz.FixedOffset(-480)), 102, 'conformance_common', None, None, None, 'SK_102__PK_5', datetime.datetime(2020, 11, 18, 5, 0, tzinfo=pytz.FixedOffset(-480)), 'N', datetime.datetime(2021, 3, 3, 18, 26, 30, 335000, tzinfo=pytz.FixedOffset(-480)), 'SK_100__PK_ET', datetime.date(2021, 3, 3))\n",
      "(57, 'BDT', 'BANGLADESHI TAKA', 'Bangladesh', '99,99,99,999', '.99', 'Tk', datetime.datetime(2020, 11, 18, 5, 0, tzinfo=pytz.FixedOffset(-480)), datetime.datetime(2020, 11, 18, 5, 0, tzinfo=pytz.FixedOffset(-480)), 102, 'conformance_common', None, None, None, 'SK_102__PK_57', datetime.datetime(2020, 11, 18, 5, 0, tzinfo=pytz.FixedOffset(-480)), 'N', datetime.datetime(2021, 3, 3, 18, 26, 30, 335000, tzinfo=pytz.FixedOffset(-480)), 'SK_100__PK_ET', datetime.date(2021, 3, 3))\n",
      "(47, 'GBP', 'POUND STERLING', 'UK-English', '999,999,999', '.99', '£', datetime.datetime(2020, 11, 18, 5, 0, tzinfo=pytz.FixedOffset(-480)), datetime.datetime(2020, 11, 18, 5, 0, tzinfo=pytz.FixedOffset(-480)), 102, 'conformance_common', None, None, None, 'SK_102__PK_47', datetime.datetime(2020, 11, 18, 5, 0, tzinfo=pytz.FixedOffset(-480)), 'N', datetime.datetime(2021, 3, 3, 18, 26, 30, 331000, tzinfo=pytz.FixedOffset(-480)), 'SK_100__PK_ET', datetime.date(2021, 3, 3))\n",
      "(60, 'AED', 'U.A.E DIRHAM', 'UAE', '999,999,999', '.99', 'Dh', datetime.datetime(2020, 11, 18, 5, 0, tzinfo=pytz.FixedOffset(-480)), datetime.datetime(2020, 11, 18, 5, 0, tzinfo=pytz.FixedOffset(-480)), 102, 'conformance_common', None, None, None, 'SK_102__PK_60', datetime.datetime(2020, 11, 18, 5, 0, tzinfo=pytz.FixedOffset(-480)), 'N', datetime.datetime(2021, 3, 3, 18, 26, 30, 335000, tzinfo=pytz.FixedOffset(-480)), 'SK_100__PK_ET', datetime.date(2021, 3, 3))\n",
      "(3, 'ARS', 'ARGENTINE PESO', 'Argentina', '999,999,999', '.99', '$', datetime.datetime(2020, 11, 18, 5, 0, tzinfo=pytz.FixedOffset(-480)), datetime.datetime(2020, 11, 18, 5, 0, tzinfo=pytz.FixedOffset(-480)), 102, 'conformance_common', None, None, None, 'SK_102__PK_3', datetime.datetime(2020, 11, 18, 5, 0, tzinfo=pytz.FixedOffset(-480)), 'N', datetime.datetime(2021, 3, 3, 18, 26, 30, 335000, tzinfo=pytz.FixedOffset(-480)), 'SK_100__PK_ET', datetime.date(2021, 3, 3))\n",
      "(87, 'ILS', 'ISRAELI NEW SHEKEL', 'Israel', '999,999,999', '.99', '₪', datetime.datetime(2020, 11, 18, 5, 0, tzinfo=pytz.FixedOffset(-480)), datetime.datetime(2020, 11, 18, 5, 0, tzinfo=pytz.FixedOffset(-480)), 102, 'conformance_common', None, None, None, 'SK_102__PK_87', datetime.datetime(2020, 11, 18, 5, 0, tzinfo=pytz.FixedOffset(-480)), 'N', datetime.datetime(2021, 3, 3, 18, 26, 30, 334000, tzinfo=pytz.FixedOffset(-480)), 'SK_100__PK_ET', datetime.date(2021, 3, 3))\n",
      "(54, 'CHF', 'SWISS FRANC', None, '999,999,999', '.99', 'CHF', datetime.datetime(2020, 11, 18, 5, 0, tzinfo=pytz.FixedOffset(-480)), datetime.datetime(2020, 11, 18, 5, 0, tzinfo=pytz.FixedOffset(-480)), 102, 'conformance_common', None, None, None, 'SK_102__PK_54', datetime.datetime(2020, 11, 18, 5, 0, tzinfo=pytz.FixedOffset(-480)), 'N', datetime.datetime(2021, 3, 3, 18, 26, 30, 333000, tzinfo=pytz.FixedOffset(-480)), 'SK_100__PK_ET', datetime.date(2021, 3, 3))\n",
      "(56, 'NOK', 'NORWEGIAN KRONE', None, '999,999,999', '.99', 'KR', datetime.datetime(2020, 11, 18, 5, 0, tzinfo=pytz.FixedOffset(-480)), datetime.datetime(2020, 11, 18, 5, 0, tzinfo=pytz.FixedOffset(-480)), 102, 'conformance_common', None, None, None, 'SK_102__PK_56', datetime.datetime(2020, 11, 18, 5, 0, tzinfo=pytz.FixedOffset(-480)), 'N', datetime.datetime(2021, 3, 3, 18, 26, 30, 335000, tzinfo=pytz.FixedOffset(-480)), 'SK_100__PK_ET', datetime.date(2021, 3, 3))\n"
     ]
    }
   ],
   "source": [
    "# REQUIRED:  \n",
    "# pip install -r https://raw.githubusercontent.com/snowflakedb/snowflake-connector-python/v2.4.1/tested_requirements/requirements_36.reqs\n",
    "# pip install snowflake-connector-python==2.4.1\n",
    "\n",
    "import snowflake.connector\n",
    "import boto3\n",
    "\n",
    "ssm = boto3.client('ssm', region_name='us-east-1')\n",
    "token = \"/dtci-linear/snowflake/dev/password\"\n",
    "password = ssm.get_parameter(Name=token, WithDecryption=True )['Parameter']['Value']\n",
    "\n",
    "user = \"SVC_LINEAR_REPORTING_QUBOLE_NONPROD\"\n",
    "account = \"dtcipoc.us-east-1\"\n",
    "warehouse = \"LINEAR_REPORTING_NONPROD\"\n",
    "database = \"LINEAR_ADSALES_SBX\"\n",
    "schema = \"CONFORMED\"\n",
    "# role = SVC_LINEAR_REPORTING_NONPROD\n",
    "\n",
    "\n",
    "conn = snowflake.connector.connect(\n",
    "                user=user,\n",
    "                password=password,\n",
    "                account=account,\n",
    "                warehouse=warehouse,\n",
    "                database=database,\n",
    "                schema=schema\n",
    "                )\n",
    "                \n",
    "cur = conn.cursor()\n",
    "cur.execute(\" select * from CONFORMED.CRNCY\")\n",
    "for token in cur:\n",
    "    print(token)\n"
   ]
  },
  {
   "cell_type": "markdown",
   "metadata": {},
   "source": [
    "### PySpark to Snowflake"
   ]
  },
  {
   "cell_type": "code",
   "execution_count": 7,
   "metadata": {},
   "outputs": [
    {
     "ename": "AttributeError",
     "evalue": "'DataFrameReader' object has no attribute 'snowflake'",
     "output_type": "error",
     "traceback": [
      "\u001b[0;31m---------------------------------------------------------------------------\u001b[0m",
      "\u001b[0;31mAttributeError\u001b[0m                            Traceback (most recent call last)",
      "\u001b[0;32m<ipython-input-7-e018305889e7>\u001b[0m in \u001b[0;36m<module>\u001b[0;34m\u001b[0m\n\u001b[1;32m     33\u001b[0m \u001b[0;34m\u001b[0m\u001b[0m\n\u001b[1;32m     34\u001b[0m \u001b[0mtablename\u001b[0m\u001b[0;34m,\u001b[0m \u001b[0mviewname\u001b[0m \u001b[0;34m=\u001b[0m \u001b[0;34m'OUTLT'\u001b[0m\u001b[0;34m,\u001b[0m\u001b[0;34m'viewname'\u001b[0m\u001b[0;34m\u001b[0m\u001b[0;34m\u001b[0m\u001b[0m\n\u001b[0;32m---> 35\u001b[0;31m \u001b[0mdf\u001b[0m \u001b[0;34m=\u001b[0m \u001b[0mmaterialize_sf\u001b[0m\u001b[0;34m(\u001b[0m\u001b[0mtablename\u001b[0m\u001b[0;34m,\u001b[0m \u001b[0mviewname\u001b[0m\u001b[0;34m)\u001b[0m\u001b[0;34m\u001b[0m\u001b[0;34m\u001b[0m\u001b[0m\n\u001b[0m\u001b[1;32m     36\u001b[0m \u001b[0;34m\u001b[0m\u001b[0m\n\u001b[1;32m     37\u001b[0m \u001b[0mdf\u001b[0m\u001b[0;34m.\u001b[0m\u001b[0mhead\u001b[0m\u001b[0;34m(\u001b[0m\u001b[0;36m5\u001b[0m\u001b[0;34m)\u001b[0m\u001b[0;34m\u001b[0m\u001b[0;34m\u001b[0m\u001b[0m\n",
      "\u001b[0;32m<ipython-input-7-e018305889e7>\u001b[0m in \u001b[0;36mmaterialize_sf\u001b[0;34m(tablename, viewname)\u001b[0m\n\u001b[1;32m     20\u001b[0m             \u001b[0moption\u001b[0m\u001b[0;34m(\u001b[0m\u001b[0;34m\"sfDatabase\"\u001b[0m\u001b[0;34m,\u001b[0m\u001b[0;34m\"LINEAR_ADSALES_SBX\"\u001b[0m\u001b[0;34m)\u001b[0m\u001b[0;34m.\u001b[0m\u001b[0;31m\\\u001b[0m\u001b[0;34m\u001b[0m\u001b[0;34m\u001b[0m\u001b[0m\n\u001b[1;32m     21\u001b[0m             \u001b[0moption\u001b[0m\u001b[0;34m(\u001b[0m\u001b[0;34m\"sfSchema\"\u001b[0m\u001b[0;34m,\u001b[0m \u001b[0;34m\"CONFORMED\"\u001b[0m\u001b[0;34m)\u001b[0m\u001b[0;34m.\u001b[0m\u001b[0;31m\\\u001b[0m\u001b[0;34m\u001b[0m\u001b[0;34m\u001b[0m\u001b[0m\n\u001b[0;32m---> 22\u001b[0;31m             \u001b[0moption\u001b[0m\u001b[0;34m(\u001b[0m\u001b[0;34m\"sfRole\"\u001b[0m\u001b[0;34m,\u001b[0m \u001b[0;34m\"SVC_LINEAR_REPORTING_NONPROD\"\u001b[0m\u001b[0;34m)\u001b[0m\u001b[0;34m.\u001b[0m\u001b[0;31m\\\u001b[0m\u001b[0;34m\u001b[0m\u001b[0;34m\u001b[0m\u001b[0m\n\u001b[0m\u001b[1;32m     23\u001b[0m             \u001b[0msnowflake\u001b[0m\u001b[0;34m(\u001b[0m\u001b[0;34m\"Linear-adsales-sandbox\"\u001b[0m\u001b[0;34m,\u001b[0m \u001b[0mwarehouse\u001b[0m\u001b[0;34m,\u001b[0m \u001b[0msqlquery\u001b[0m\u001b[0;34m)\u001b[0m\u001b[0;34m\u001b[0m\u001b[0;34m\u001b[0m\u001b[0m\n\u001b[1;32m     24\u001b[0m     \u001b[0msf_df\u001b[0m\u001b[0;34m.\u001b[0m\u001b[0mcreateOrReplaceTempView\u001b[0m\u001b[0;34m(\u001b[0m\u001b[0mviewname\u001b[0m\u001b[0;34m)\u001b[0m\u001b[0;34m\u001b[0m\u001b[0;34m\u001b[0m\u001b[0m\n",
      "\u001b[0;31mAttributeError\u001b[0m: 'DataFrameReader' object has no attribute 'snowflake'"
     ]
    }
   ],
   "source": [
    "import json\n",
    "\n",
    "# credentials cannot be left in git.  \n",
    "# this is a work around\n",
    "d = None\n",
    "with open('../../../.credentials/credentials.json') as f:\n",
    "  d = json.load(f)\n",
    "\n",
    "\n",
    "def materialize_sf(tablename, viewname):\n",
    "    ''' Reads from a specific Snowflake DB (see spark.read for particulars) and returns a dataframe and view for use elsewhere\n",
    "    :param tablename - the table in SF\n",
    "    :param viewname - the view that is created\n",
    "    :return sf_df - a Spark dataframe paired to the specified view.  \n",
    "    '''\n",
    "    warehouse = 'LINEAR_REPORTING_NONPROD'\n",
    "    sqlquery = \"select * from CONFORMED.{};\".format(tablename)\n",
    "    sf_df = spark.read.\\\n",
    "            option(\"sfWarehouse\", warehouse).\\\n",
    "            option(\"sfDatabase\",\"LINEAR_ADSALES_SBX\").\\\n",
    "            option(\"sfSchema\", \"CONFORMED\").\\\n",
    "            option(\"sfRole\", \"SVC_LINEAR_REPORTING_NONPROD\").\\\n",
    "            snowflake(\"Linear-adsales-sandbox\", warehouse, sqlquery)\n",
    "    sf_df.createOrReplaceTempView(viewname)\n",
    "    return sf_df\n",
    "\n",
    "kms_key = d['kms_key_conformance']\n",
    "\n",
    "spark._jsc.hadoopConfiguration().set('fs.s3a.server-side-encryption.key', kms_key)\n",
    "spark._jsc.hadoopConfiguration().set(\"fs.s3a.server-side-encryption-algorithm\",\"SSE-KMS\");\n",
    "spark._jsc.hadoopConfiguration().set(\"fs.s3a.connection.ssl.enabled\", \"true\");\n",
    "spark._jsc.hadoopConfiguration().set(\"fs.s3a.impl.disable.cache\", \"true\");\n",
    "\n",
    "tablename, viewname = 'OUTLT','viewname'\n",
    "df = materialize_sf(tablename, viewname)\n",
    "\n",
    "df.head(5)\n"
   ]
  },
  {
   "cell_type": "markdown",
   "metadata": {},
   "source": [
    "### PySpark to S3\n",
    "\n",
    "UNVALIDATED Need AWS particulars"
   ]
  },
  {
   "cell_type": "code",
   "execution_count": null,
   "metadata": {},
   "outputs": [],
   "source": [
    "spark = SparkSession.builder \\\n",
    "            .appName(\"my_app\") \\\n",
    "            .config('spark.sql.codegen.wholeStage', False) \\\n",
    "            .getOrCreate()\n",
    "\n",
    "spark._jsc.hadoopConfiguration().set(\"fs.s3a.access.key\", \"mykey\")\n",
    "spark._jsc.hadoopConfiguration().set(\"fs.s3a.secret.key\", \"mysecret\")\n",
    "spark._jsc.hadoopConfiguration().set(\"fs.s3a.impl\",\"org.apache.hadoop.fs.s3a.S3AFileSystem\")\n",
    "spark._jsc.hadoopConfiguration().set(\"com.amazonaws.services.s3.enableV4\", \"true\")\n",
    "spark._jsc.hadoopConfiguration().set(\"fs.s3a.aws.credentials.provider\",\"org.apache.hadoop.fs.s3a.BasicAWSCredentialsProvider\")\n",
    "spark._jsc.hadoopConfiguration().set(\"fs.s3a.endpoint\", \"eu-west-3.amazonaws.com\")"
   ]
  }
 ],
 "metadata": {
  "anaconda-cloud": {},
  "kernelspec": {
   "display_name": "Python 3",
   "language": "python",
   "name": "python3"
  },
  "language_info": {
   "codemirror_mode": {
    "name": "ipython",
    "version": 3
   },
   "file_extension": ".py",
   "mimetype": "text/x-python",
   "name": "python",
   "nbconvert_exporter": "python",
   "pygments_lexer": "ipython3",
   "version": "3.7.4"
  }
 },
 "nbformat": 4,
 "nbformat_minor": 1
}
