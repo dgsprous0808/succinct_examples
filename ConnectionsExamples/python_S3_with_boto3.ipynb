{
 "cells": [
  {
   "cell_type": "markdown",
   "metadata": {},
   "source": [
    "## Simple example to show retrieve one file from S3 using boto3 package."
   ]
  },
  {
   "cell_type": "code",
   "execution_count": null,
   "metadata": {},
   "outputs": [],
   "source": [
    "import boto3\n",
    "s3 = boto3.client('s3', aws_access_key_id='***', aws_secret_access_key='***')\n",
    "bucket = \"dp-linear-advisor-landing-dev\"\n",
    "object_name = \"proposal/ad_unit_schd_aloctn_dvs/year=2020/month=03/date=10/ad_unit_schd_aloctn_dvs.csv\"\n",
    "file = \"csv_out\"                                      \n",
    "s3.download_file(bucket, object_name, file)"
   ]
  }
 ],
 "metadata": {
  "kernelspec": {
   "display_name": "Python 3",
   "language": "python",
   "name": "python3"
  },
  "language_info": {
   "codemirror_mode": {
    "name": "ipython",
    "version": 3
   },
   "file_extension": ".py",
   "mimetype": "text/x-python",
   "name": "python",
   "nbconvert_exporter": "python",
   "pygments_lexer": "ipython3",
   "version": "3.7.4"
  }
 },
 "nbformat": 4,
 "nbformat_minor": 2
}
