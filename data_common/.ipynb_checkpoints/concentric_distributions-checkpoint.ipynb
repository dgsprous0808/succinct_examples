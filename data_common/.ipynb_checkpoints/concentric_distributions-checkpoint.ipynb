{
 "cells": [
  {
   "cell_type": "markdown",
   "metadata": {},
   "source": [
    "# Purpose:\n",
    "This notebook creates six distributions in polar coordinate space that partially encapsulate each other.  Said distributions are packed to a csv for use as clustering exercises.  Image of the distributions is at bottom of this notebook.  All distributions have same population but differ in position, deviation from a simple scatter and effective area and density"
   ]
  },
  {
   "cell_type": "code",
   "execution_count": 1,
   "metadata": {},
   "outputs": [],
   "source": [
    "import numpy as np\n",
    "import pandas as pd\n",
    "import matplotlib.pyplot as plt\n",
    "%matplotlib inline"
   ]
  },
  {
   "cell_type": "markdown",
   "metadata": {},
   "source": [
    "# curveddistr\n",
    "This function returns a distribution in x,y spacebased on a calculated normal distribution about the polar coordinates theta and rho. "
   ]
  },
  {
   "cell_type": "code",
   "execution_count": 2,
   "metadata": {},
   "outputs": [],
   "source": [
    "def curveddistr(theta_mean, theta_std, rho_mean, rho_std, xshft, yshft, N):\n",
    "    # Output:  Returns two np.arrays x and y\n",
    "    # Input:\n",
    "    #    theta_mean - mean value for theta - used to calculate normal distribition\n",
    "    #    theta_std - standard deviation of theta - used to calculate normal distribition\n",
    "    #    rho_mean - mean value for rho - used to calculate normal distribition\n",
    "    #    rho_std - standard deviation of rho - used to calculate normal distribition\n",
    "    #    xshft - after x,y coords created, add this to the final x to shift position of distribution\n",
    "    #    yshft - after x,y coords created, add this to the final y to shift position of distribution\n",
    "    #    N - number of samples to generate\n",
    "    theta = np.random.normal(theta_mean, theta_std, N)\n",
    "    rho = np.random.normal(rho_mean, rho_std, N)\n",
    "    x = rho * np.cos(theta)\n",
    "    y = rho * np.sin(theta)\n",
    "    return x+xshft, y+yshft"
   ]
  },
  {
   "cell_type": "code",
   "execution_count": 3,
   "metadata": {},
   "outputs": [],
   "source": [
    "theta_mean, theta_std = np.pi, np.pi/4\n",
    "rho_mean, rho_std = 1, 0.02\n",
    "xshft, yshft = -.5, 0 \n",
    "N = 100\n",
    "\n",
    "x0, y0 = curveddistr(theta_mean, theta_std, rho_mean, rho_std, xshft, yshft, N)\n",
    "\n",
    "df0 = pd.DataFrame.from_dict({\"x\":x0,\"y\":y0})\n",
    "df0['label'] = 0"
   ]
  },
  {
   "cell_type": "code",
   "execution_count": 4,
   "metadata": {},
   "outputs": [],
   "source": [
    "theta_mean, theta_std = np.pi, np.pi/8\n",
    "rho_mean, rho_std = 4.1, 0.05\n",
    "xshft, yshft = 0, 0\n",
    "\n",
    "x1, y1 = curveddistr(theta_mean, theta_std, rho_mean, rho_std, xshft, yshft, N)\n",
    "\n",
    "df1 = pd.DataFrame.from_dict({\"x\":x1,\"y\":y1})\n",
    "df1['label'] = 1"
   ]
  },
  {
   "cell_type": "code",
   "execution_count": 5,
   "metadata": {},
   "outputs": [],
   "source": [
    "theta_mean, theta_std = 0, np.pi/6\n",
    "rho_mean, rho_std = 1, 0.02\n",
    "xshft, yshft = 0, 1\n",
    "\n",
    "x2, y2 = curveddistr(theta_mean, theta_std, rho_mean, rho_std, xshft, yshft, N)\n",
    "\n",
    "df2 = pd.DataFrame.from_dict({\"x\":x2,\"y\":y2})\n",
    "df2['label'] = 1"
   ]
  },
  {
   "cell_type": "code",
   "execution_count": 6,
   "metadata": {},
   "outputs": [],
   "source": [
    "theta_mean, theta_std = 0, np.pi/4\n",
    "rho_mean, rho_std = 4, 0.25\n",
    "xshft, yshft = 0, 0\n",
    "\n",
    "x3, y3 = curveddistr(theta_mean, theta_std, rho_mean, rho_std, xshft, yshft, N)\n",
    "\n",
    "df3 = pd.DataFrame.from_dict({\"x\":x3,\"y\":y3})\n",
    "df3['label'] = 1"
   ]
  },
  {
   "cell_type": "code",
   "execution_count": 7,
   "metadata": {},
   "outputs": [],
   "source": [
    "theta_mean, theta_std = 0, np.pi\n",
    "rho_mean, rho_std = 0.25, 0.1\n",
    "xshft, yshft = 2, 0\n",
    "\n",
    "x4, y4 = curveddistr(theta_mean, theta_std, rho_mean, rho_std, xshft, yshft, N)\n",
    "\n",
    "df4 = pd.DataFrame.from_dict({\"x\":x4,\"y\":y4})\n",
    "df4['label'] = 4"
   ]
  },
  {
   "cell_type": "code",
   "execution_count": 8,
   "metadata": {},
   "outputs": [],
   "source": [
    "theta_mean, theta_std = np.pi, np.pi/6\n",
    "rho_mean, rho_std = 2, 0.2\n",
    "xshft, yshft = -0.750, 0 \n",
    "\n",
    "x5, y5 = curveddistr(theta_mean, theta_std, rho_mean, rho_std, xshft, yshft, N)\n",
    "\n",
    "\n",
    "df5 = pd.DataFrame.from_dict({\"x\":x5,\"y\":y5})\n",
    "df5['label'] = 5"
   ]
  },
  {
   "cell_type": "code",
   "execution_count": 10,
   "metadata": {},
   "outputs": [
    {
     "data": {
      "text/plain": [
       "(-5, 5)"
      ]
     },
     "execution_count": 10,
     "metadata": {},
     "output_type": "execute_result"
    },
    {
     "data": {
      "image/png": "[encoded data removed]",
      "text/plain": [
       "<Figure size 432x288 with 1 Axes>"
      ]
     },
     "metadata": {
      "needs_background": "light"
     },
     "output_type": "display_data"
    }
   ],
   "source": [
    "plt.scatter(x1,y1)\n",
    "plt.scatter(x2,y2)\n",
    "plt.scatter(x3,y3)\n",
    "plt.scatter(x4,y4)\n",
    "plt.scatter(x5,y5)\n",
    "plt.scatter(x0,y0)\n",
    "plt.xlim(-5,5)\n",
    "plt.ylim(-5,5)"
   ]
  },
  {
   "cell_type": "code",
   "execution_count": 12,
   "metadata": {},
   "outputs": [],
   "source": [
    "df = pd.concat([df0,df1,df2,df3,df4,df5])\n",
    "df[['label','x','y']].to_csv('concentric_distributions.csv',index=False,sep=\",\")"
   ]
  },
  {
   "cell_type": "code",
   "execution_count": null,
   "metadata": {},
   "outputs": [],
   "source": []
  }
 ],
 "metadata": {
  "kernelspec": {
   "display_name": "Python 3",
   "language": "python",
   "name": "python3"
  },
  "language_info": {
   "codemirror_mode": {
    "name": "ipython",
    "version": 3
   },
   "file_extension": ".py",
   "mimetype": "text/x-python",
   "name": "python",
   "nbconvert_exporter": "python",
   "pygments_lexer": "ipython3",
   "version": "3.7.4"
  }
 },
 "nbformat": 4,
 "nbformat_minor": 2
}
